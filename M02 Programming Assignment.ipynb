{
 "cells": [
  {
   "cell_type": "markdown",
   "id": "8692b4ba-deb9-4f29-bfa7-fec3b637078e",
   "metadata": {},
   "source": [
    "4.1"
   ]
  },
  {
   "cell_type": "code",
   "execution_count": 3,
   "id": "7f21674b-9d12-4295-8952-39ddcb28ebd3",
   "metadata": {},
   "outputs": [
    {
     "name": "stdout",
     "output_type": "stream",
     "text": [
      "too low\n"
     ]
    }
   ],
   "source": [
    "secret = 8\n",
    "guess = 2\n",
    "\n",
    "if (guess > secret):\n",
    "    print(\"too high\")\n",
    "elif (guess < secret):\n",
    "    print(\"too low\")\n",
    "else:\n",
    "    print(\"just right\")"
   ]
  },
  {
   "cell_type": "markdown",
   "id": "1d011e9f-bf2b-4b87-a426-2acca48456e1",
   "metadata": {},
   "source": [
    "4.2"
   ]
  },
  {
   "cell_type": "code",
   "execution_count": 2,
   "id": "b72430a6-d2d1-4aee-b648-4372e3c0f548",
   "metadata": {},
   "outputs": [
    {
     "name": "stdout",
     "output_type": "stream",
     "text": [
      "watermelon\n"
     ]
    }
   ],
   "source": [
    "small = False\n",
    "green = True\n",
    "\n",
    "if (small and not green):\n",
    "    print(\"cherry\")\n",
    "elif (small and green):\n",
    "    print(\"pea\")\n",
    "elif (green and not small):\n",
    "    print(\"watermelon\")\n",
    "else:\n",
    "    print(\"pumpkin\")"
   ]
  },
  {
   "cell_type": "markdown",
   "id": "42e6aa10-384b-4c11-ab34-c0af99ab574e",
   "metadata": {},
   "source": [
    "6.1"
   ]
  },
  {
   "cell_type": "code",
   "execution_count": 3,
   "id": "fdde5e38-bd3e-429c-8c14-25ae07176f33",
   "metadata": {},
   "outputs": [
    {
     "name": "stdout",
     "output_type": "stream",
     "text": [
      "3\n",
      "2\n",
      "1\n",
      "0\n"
     ]
    }
   ],
   "source": [
    "list = [3, 2, 1, 0]\n",
    "\n",
    "for letter in list:\n",
    "    print(letter)"
   ]
  },
  {
   "cell_type": "markdown",
   "id": "2ad83cf2-0076-4d6f-8da6-308a98518ce5",
   "metadata": {},
   "source": [
    "6.2"
   ]
  },
  {
   "cell_type": "code",
   "execution_count": 1,
   "id": "97c2e699-4a9c-4098-b290-f39a64139c2a",
   "metadata": {},
   "outputs": [
    {
     "name": "stdout",
     "output_type": "stream",
     "text": [
      "too low\n",
      "too low\n",
      "too low\n",
      "too low\n",
      "too low\n",
      "too low\n",
      "found it!\n"
     ]
    }
   ],
   "source": [
    "guess_me = 7\n",
    "number = 1\n",
    "\n",
    "while (number <= guess_me):\n",
    "    if (number < guess_me):\n",
    "        print(\"too low\")\n",
    "    elif (number == guess_me):\n",
    "        print(\"found it!\")\n",
    "        exit()\n",
    "    elif (number > guess_me):\n",
    "        print(\"oops\")\n",
    "        exit()\n",
    "\n",
    "    number += 1 \n",
    "    "
   ]
  },
  {
   "cell_type": "markdown",
   "id": "287f5993-52c1-4bb7-bc6c-0d96d9fbd764",
   "metadata": {},
   "source": [
    "6.3"
   ]
  },
  {
   "cell_type": "code",
   "execution_count": 2,
   "id": "1df94b5d-6eaf-469c-a365-e8e35c0b2d36",
   "metadata": {},
   "outputs": [
    {
     "name": "stdout",
     "output_type": "stream",
     "text": [
      "too low\n",
      "too low\n",
      "too low\n",
      "too low\n",
      "too low\n",
      "found it!\n"
     ]
    }
   ],
   "source": [
    "guess_me = 5\n",
    "\n",
    "for number in range(10):\n",
    "    if (number < guess_me):\n",
    "        print(\"too low\")\n",
    "    elif (number == guess_me):\n",
    "        print(\"found it!\")\n",
    "        break\n",
    "    elif (number > guess_me):\n",
    "        print(\"oops\")\n",
    "        exit()"
   ]
  },
  {
   "cell_type": "code",
   "execution_count": null,
   "id": "e26e9a4b-fe58-435a-85c4-359313d83690",
   "metadata": {},
   "outputs": [],
   "source": []
  }
 ],
 "metadata": {
  "kernelspec": {
   "display_name": "Python 3 (ipykernel)",
   "language": "python",
   "name": "python3"
  },
  "language_info": {
   "codemirror_mode": {
    "name": "ipython",
    "version": 3
   },
   "file_extension": ".py",
   "mimetype": "text/x-python",
   "name": "python",
   "nbconvert_exporter": "python",
   "pygments_lexer": "ipython3",
   "version": "3.11.7"
  }
 },
 "nbformat": 4,
 "nbformat_minor": 5
}
